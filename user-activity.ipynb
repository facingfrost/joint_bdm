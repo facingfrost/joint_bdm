{
 "cells": [
  {
   "cell_type": "markdown",
   "id": "c8d0b959-5d74-4668-9486-9864b22c1b6e",
   "metadata": {},
   "source": [
    "## User-Activity Data Generation"
   ]
  },
  {
   "cell_type": "code",
   "execution_count": 1,
   "id": "c4609583-31bb-4c3a-965a-37e2c1bb32e9",
   "metadata": {},
   "outputs": [],
   "source": [
    "import pandas as pd\n",
    "import random\n",
    "from datetime import datetime, timedelta"
   ]
  },
  {
   "cell_type": "code",
   "execution_count": 6,
   "id": "61d86606-1262-41f8-8135-192571b37160",
   "metadata": {},
   "outputs": [
    {
     "name": "stdout",
     "output_type": "stream",
     "text": [
      "     userID       activityID          page           timestamp\n",
      "38   user20          Comment  Profile Page 2024-05-01 00:06:00\n",
      "23   user17      Access Page   Marketplace 2024-05-01 05:50:00\n",
      "405  user12  Follow/Unfollow  Profile Page 2024-05-01 07:39:00\n",
      "198  user20  Follow/Unfollow  Profile Page 2024-05-01 08:09:00\n",
      "214  user15          Comment  Profile Page 2024-05-01 08:18:00\n"
     ]
    }
   ],
   "source": [
    "users = [f\"user{i}\" for i in range(1, 21)]\n",
    "activities = [\"Login\", \"Logout\", \"Access Page\", \"Post Creation\", \"Comment\", \n",
    "              \"Like/Reaction\", \"Share\", \"Search\", \"Follow/Unfollow\", \"Profile Update\", \"Notification Interaction\"]\n",
    "\n",
    "activity_pages = {\n",
    "    \"Login\": \"Home\",\n",
    "    \"Logout\": \"Home\",\n",
    "    \"Access Page\": None,\n",
    "    \"Post Creation\": \"Profile Page\",\n",
    "    \"Comment\": \"Profile Page\",\n",
    "    \"Like/Reaction\": \"Profile Page\",\n",
    "    \"Share\": \"Profile Page\",\n",
    "    \"Search\": \"Dashboard\",\n",
    "    \"Follow/Unfollow\": \"Profile Page\",\n",
    "    \"Profile Update\": \"Settings\",\n",
    "    \"Notification Interaction\": \"Notifications\"\n",
    "}\n",
    "\n",
    "pages = [\"Home\", \"Dashboard\", \"Reports\", \"Profile Page\", \"Settings\", \"Notifications\",\n",
    "         \"Messages\", \"Friends List\", \"Trending\", \"Events\", \"Marketplace\", \"Help/Support\"]\n",
    "\n",
    "def random_date():\n",
    "    start = datetime(2024, 5, 1)\n",
    "    days_in_month = 31  # May has 31 days\n",
    "    random_day = random.randint(0, days_in_month - 1)\n",
    "    random_hour = random.randint(0, 23)\n",
    "    random_minute = random.randint(0, 59)\n",
    "    return start + timedelta(days=random_day, hours=random_hour, minutes=random_minute)\n",
    "\n",
    "data = []\n",
    "for _ in range(500):\n",
    "    user = random.choice(users)\n",
    "    activity = random.choice(activities)\n",
    "    if activity == \"Access Page\":\n",
    "        page = random.choice(pages)\n",
    "    else:\n",
    "        page = activity_pages[activity]\n",
    "    timestamp = random_date()\n",
    "    \n",
    "    data.append([user, activity, page, timestamp])\n",
    "\n",
    "df = pd.DataFrame(data, columns=[\"userID\", \"activityID\", \"page\", \"timestamp\"])\n",
    "df = df.sort_values(by=\"timestamp\")\n",
    "print(df.head())\n",
    "df.to_csv(\"user_activity_data.csv\", index=False)"
   ]
  },
  {
   "cell_type": "markdown",
   "id": "134f610e-c0e4-4193-a3c1-58c26853b273",
   "metadata": {},
   "source": [
    "## Post-Engagement Data Generation"
   ]
  },
  {
   "cell_type": "code",
   "execution_count": 8,
   "id": "dd6f4782-3555-4803-b4e8-8d0e635299ec",
   "metadata": {},
   "outputs": [
    {
     "name": "stdout",
     "output_type": "stream",
     "text": [
      "      eventID  postID  userID engagementType           timestamp\n",
      "59    event60     145   user2          Share 2024-05-01 00:05:15\n",
      "4      event5     121  user17           Like 2024-05-01 01:17:53\n",
      "313  event314     109   user4          Share 2024-05-01 05:13:24\n",
      "382  event383     184   user7           Like 2024-05-01 06:38:37\n",
      "467  event468     148  user12          Share 2024-05-01 07:47:14\n"
     ]
    }
   ],
   "source": [
    "users = [f\"user{i}\" for i in range(1, 21)]\n",
    "engagement_types = [\"Like\", \"Save\", \"Share\"]\n",
    "\n",
    "def random_date():\n",
    "    start = datetime(2024, 5, 1)\n",
    "    end = datetime(2024, 5, 31, 23, 59)\n",
    "    return start + timedelta(seconds=random.randint(0, int((end - start).total_seconds())))\n",
    "\n",
    "data = []\n",
    "for i in range(500):\n",
    "    post_id = random.randint(100, 200)\n",
    "    user = random.choice(users)\n",
    "    engagement_type = random.choice(engagement_types)\n",
    "    timestamp = random_date()\n",
    "\n",
    "    data.append([f\"event{i+1}\", post_id, user, engagement_type, timestamp])\n",
    "\n",
    "df = pd.DataFrame(data, columns=[\"eventID\", \"Post ID\", \"User\", \"Engagement Type\", \"Timestamp\"])\n",
    "df = df.sort_values(by=\"Timestamp\")\n",
    "print(df.head())\n",
    "df.to_csv(\"generated_engagement_data.csv\", index=False)"
   ]
  },
  {
   "cell_type": "code",
   "execution_count": null,
   "id": "ea09c479-0bbd-4fe9-828c-b5f1b9a200b9",
   "metadata": {},
   "outputs": [],
   "source": [
    "\n",
    "columns=[\"eventID\", \"postID\", \"userID\", \"engagementType\", \"timestamp\"])"
   ]
  },
  {
   "cell_type": "markdown",
   "id": "20a24c4d-4a2b-4284-bd39-24ff87ee05ef",
   "metadata": {},
   "source": [
    "## Recommendation"
   ]
  },
  {
   "cell_type": "code",
   "execution_count": 17,
   "id": "d4a87777-d6e8-4015-8697-2b4f6c6fc070",
   "metadata": {},
   "outputs": [
    {
     "name": "stdout",
     "output_type": "stream",
     "text": [
      "  recommendationID  postID  userID\n",
      "0            rec77     238  user14\n",
      "1            rec79     146  user18\n",
      "2            rec54     104  user10\n",
      "3            rec80     396  user10\n",
      "4            rec97     309   user5\n"
     ]
    }
   ],
   "source": [
    "users = [f\"user{i}\" for i in range(1, 21)]\n",
    "recommendations = [f\"rec{i}\" for i in range(1, 100)]\n",
    "\n",
    "data = []\n",
    "for i in range(500):\n",
    "    post_id = random.randint(100, 500)\n",
    "    user = random.choice(users)\n",
    "    recommendation = random.choice(recommendations)\n",
    "    data.append([recommendation, post_id, user])\n",
    "\n",
    "df = pd.DataFrame(data, columns=[\"recommendationID\", \"postID\", \"userID\"])\n",
    "\n",
    "print(df.head())\n",
    "df.to_csv(\"recommendation_data.csv\", index=False)"
   ]
  },
  {
   "cell_type": "markdown",
   "id": "f15e2857-7b10-4f60-a6cd-8376eb41f724",
   "metadata": {},
   "source": [
    "## Nearby Place Recommendation"
   ]
  },
  {
   "cell_type": "code",
   "execution_count": 16,
   "id": "f82a3545-a620-4bbd-83fe-dbbb45ede824",
   "metadata": {},
   "outputs": [
    {
     "name": "stdout",
     "output_type": "stream",
     "text": [
      "  nearPlaceID  postID   placeID\n",
      "0        np55     375   place27\n",
      "1       np184     268  place111\n",
      "2       np162     381  place147\n",
      "3       np165     319   place86\n",
      "4        np56     492  place159\n"
     ]
    }
   ],
   "source": [
    "nearby_places = [f\"np{i}\" for i in range(1, 400)]\n",
    "places = [f\"place{i}\" for i in range(1, 200)]\n",
    "\n",
    "data = []\n",
    "for i in range(500):\n",
    "    post_id = random.randint(100, 500)\n",
    "    nearby_place = random.choice(nearby_places)\n",
    "    place = random.choice(places)\n",
    "    data.append([nearby_place, post_id, place])\n",
    "\n",
    "df = pd.DataFrame(data, columns=[\"nearPlaceID\", \"postID\", \"placeID\"])\n",
    "\n",
    "print(df.head())\n",
    "df.to_csv(\"nearby_place_data.csv\", index=False)"
   ]
  },
  {
   "cell_type": "code",
   "execution_count": null,
   "id": "e84d4330-d1dc-4d54-9cb9-36cf74c2e4e2",
   "metadata": {},
   "outputs": [],
   "source": []
  }
 ],
 "metadata": {
  "kernelspec": {
   "display_name": "Python 3",
   "language": "python",
   "name": "python3"
  },
  "language_info": {
   "codemirror_mode": {
    "name": "ipython",
    "version": 3
   },
   "file_extension": ".py",
   "mimetype": "text/x-python",
   "name": "python",
   "nbconvert_exporter": "python",
   "pygments_lexer": "ipython3",
   "version": "3.8.8"
  }
 },
 "nbformat": 4,
 "nbformat_minor": 5
}
